{
 "cells": [
  {
   "cell_type": "code",
   "execution_count": 6,
   "metadata": {},
   "outputs": [
    {
     "name": "stdout",
     "output_type": "stream",
     "text": [
      "Defaulting to user installation because normal site-packages is not writeable\n",
      "Requirement already satisfied: pillow in /Users/katerynapantiukh/Library/Python/3.9/lib/python/site-packages (9.4.0)\n",
      "Requirement already satisfied: matplotlib in /Users/katerynapantiukh/Library/Python/3.9/lib/python/site-packages (3.7.1)\n",
      "Requirement already satisfied: packaging>=20.0 in /Users/katerynapantiukh/Library/Python/3.9/lib/python/site-packages (from matplotlib) (23.0)\n",
      "Requirement already satisfied: cycler>=0.10 in /Users/katerynapantiukh/Library/Python/3.9/lib/python/site-packages (from matplotlib) (0.11.0)\n",
      "Requirement already satisfied: numpy>=1.20 in /Users/katerynapantiukh/Library/Python/3.9/lib/python/site-packages (from matplotlib) (1.24.2)\n",
      "Requirement already satisfied: pyparsing>=2.3.1 in /Users/katerynapantiukh/Library/Python/3.9/lib/python/site-packages (from matplotlib) (3.0.9)\n",
      "Requirement already satisfied: python-dateutil>=2.7 in /Users/katerynapantiukh/Library/Python/3.9/lib/python/site-packages (from matplotlib) (2.8.2)\n",
      "Requirement already satisfied: kiwisolver>=1.0.1 in /Users/katerynapantiukh/Library/Python/3.9/lib/python/site-packages (from matplotlib) (1.4.4)\n",
      "Requirement already satisfied: contourpy>=1.0.1 in /Users/katerynapantiukh/Library/Python/3.9/lib/python/site-packages (from matplotlib) (1.0.7)\n",
      "Requirement already satisfied: fonttools>=4.22.0 in /Users/katerynapantiukh/Library/Python/3.9/lib/python/site-packages (from matplotlib) (4.39.2)\n",
      "Requirement already satisfied: importlib-resources>=3.2.0 in /Users/katerynapantiukh/Library/Python/3.9/lib/python/site-packages (from matplotlib) (5.12.0)\n",
      "Requirement already satisfied: zipp>=3.1.0 in /Users/katerynapantiukh/Library/Python/3.9/lib/python/site-packages (from importlib-resources>=3.2.0->matplotlib) (3.15.0)\n",
      "Requirement already satisfied: six>=1.5 in /Library/Developer/CommandLineTools/Library/Frameworks/Python3.framework/Versions/3.9/lib/python3.9/site-packages (from python-dateutil>=2.7->matplotlib) (1.15.0)\n",
      "\u001b[33mWARNING: You are using pip version 21.2.4; however, version 23.0.1 is available.\n",
      "You should consider upgrading via the '/Library/Developer/CommandLineTools/usr/bin/python3 -m pip install --upgrade pip' command.\u001b[0m\n",
      "Note: you may need to restart the kernel to use updated packages.\n"
     ]
    }
   ],
   "source": [
    "%pip install pillow matplotlib"
   ]
  },
  {
   "cell_type": "code",
   "execution_count": null,
   "metadata": {},
   "outputs": [],
   "source": [
    "# import packages\n",
    "import pandas as pd\n",
    "import matplotlib.pyplot as plt"
   ]
  },
  {
   "cell_type": "code",
   "execution_count": 56,
   "metadata": {},
   "outputs": [
    {
     "data": {
      "text/html": [
       "<div>\n",
       "<style scoped>\n",
       "    .dataframe tbody tr th:only-of-type {\n",
       "        vertical-align: middle;\n",
       "    }\n",
       "\n",
       "    .dataframe tbody tr th {\n",
       "        vertical-align: top;\n",
       "    }\n",
       "\n",
       "    .dataframe thead th {\n",
       "        text-align: right;\n",
       "    }\n",
       "</style>\n",
       "<table border=\"1\" class=\"dataframe\">\n",
       "  <thead>\n",
       "    <tr style=\"text-align: right;\">\n",
       "      <th></th>\n",
       "      <th>smpls_ID</th>\n",
       "      <th>reads_number</th>\n",
       "      <th>file_size</th>\n",
       "    </tr>\n",
       "  </thead>\n",
       "  <tbody>\n",
       "    <tr>\n",
       "      <th>0</th>\n",
       "      <td>CRC001_S12</td>\n",
       "      <td>20905065</td>\n",
       "      <td>3470848</td>\n",
       "    </tr>\n",
       "    <tr>\n",
       "      <th>1</th>\n",
       "      <td>CRC002_S13</td>\n",
       "      <td>47102155</td>\n",
       "      <td>7853952</td>\n",
       "    </tr>\n",
       "  </tbody>\n",
       "</table>\n",
       "</div>"
      ],
      "text/plain": [
       "     smpls_ID  reads_number  file_size\n",
       "0  CRC001_S12      20905065    3470848\n",
       "1  CRC002_S13      47102155    7853952"
      ]
     },
     "execution_count": 56,
     "metadata": {},
     "output_type": "execute_result"
    }
   ],
   "source": [
    "# read input data\n",
    "rn = pd.read_csv('input/ReadsNumb_Oral.csv')\n",
    "fs = pd.read_csv('input/reads_sizeL_oral__beforeClean.csv')\n",
    "mrg = pd.merge(rn, fs, on='smpls_ID')\n",
    "mrg.head(2)"
   ]
  },
  {
   "cell_type": "code",
   "execution_count": 2,
   "metadata": {},
   "outputs": [
    {
     "data": {
      "text/html": [
       "<div>\n",
       "<style scoped>\n",
       "    .dataframe tbody tr th:only-of-type {\n",
       "        vertical-align: middle;\n",
       "    }\n",
       "\n",
       "    .dataframe tbody tr th {\n",
       "        vertical-align: top;\n",
       "    }\n",
       "\n",
       "    .dataframe thead th {\n",
       "        text-align: right;\n",
       "    }\n",
       "</style>\n",
       "<table border=\"1\" class=\"dataframe\">\n",
       "  <thead>\n",
       "    <tr style=\"text-align: right;\">\n",
       "      <th></th>\n",
       "      <th>smpls_ID</th>\n",
       "      <th>Files_size</th>\n",
       "      <th>ReadsNumber</th>\n",
       "      <th>RN_host_removed</th>\n",
       "      <th>RN_host_removed,%</th>\n",
       "      <th>RN_only_host</th>\n",
       "      <th>RN_only_host,%</th>\n",
       "      <th>Adenoma_risk</th>\n",
       "      <th>N_polyps</th>\n",
       "      <th>Polyp_size_mm</th>\n",
       "      <th>Sample_type</th>\n",
       "    </tr>\n",
       "  </thead>\n",
       "  <tbody>\n",
       "    <tr>\n",
       "      <th>0</th>\n",
       "      <td>CRC001_S12</td>\n",
       "      <td>3470848.0</td>\n",
       "      <td>20905065.0</td>\n",
       "      <td>1186263.0</td>\n",
       "      <td>0.056745</td>\n",
       "      <td>19423245.0</td>\n",
       "      <td>0.929117</td>\n",
       "      <td>High</td>\n",
       "      <td>5.0</td>\n",
       "      <td>14</td>\n",
       "      <td>Hyperplastic</td>\n",
       "    </tr>\n",
       "    <tr>\n",
       "      <th>1</th>\n",
       "      <td>CRC002_S13</td>\n",
       "      <td>7853952.0</td>\n",
       "      <td>47102155.0</td>\n",
       "      <td>1485580.0</td>\n",
       "      <td>0.031540</td>\n",
       "      <td>44966836.0</td>\n",
       "      <td>0.954666</td>\n",
       "      <td>High</td>\n",
       "      <td>2.0</td>\n",
       "      <td>20</td>\n",
       "      <td>High grade serous adenoma</td>\n",
       "    </tr>\n",
       "  </tbody>\n",
       "</table>\n",
       "</div>"
      ],
      "text/plain": [
       "     smpls_ID  Files_size  ReadsNumber  RN_host_removed  RN_host_removed,%  \\\n",
       "0  CRC001_S12   3470848.0   20905065.0        1186263.0           0.056745   \n",
       "1  CRC002_S13   7853952.0   47102155.0        1485580.0           0.031540   \n",
       "\n",
       "   RN_only_host  RN_only_host,% Adenoma_risk  N_polyps Polyp_size_mm  \\\n",
       "0    19423245.0        0.929117         High       5.0            14   \n",
       "1    44966836.0        0.954666         High       2.0            20   \n",
       "\n",
       "                 Sample_type  \n",
       "0               Hyperplastic  \n",
       "1  High grade serous adenoma  "
      ]
     },
     "execution_count": 2,
     "metadata": {},
     "output_type": "execute_result"
    }
   ],
   "source": [
    "# read final input\n",
    "mrg = pd.read_excel('input/ReadsNumb_Oral1.xlsx', sheet_name='ReadsNumb_Oral')\n",
    "mrg.head(2)"
   ]
  },
  {
   "cell_type": "code",
   "execution_count": null,
   "metadata": {},
   "outputs": [
    {
     "data": {
      "image/png": "[encoded data removed]",
      "text/plain": [
       "<Figure size 800x300 with 2 Axes>"
      ]
     },
     "metadata": {},
     "output_type": "display_data"
    }
   ],
   "source": [
    "import matplotlib.pyplot as plt\n",
    "\n",
    "# make a plot\n",
    "fig, axs = plt.subplots(1, 2, figsize=(8, 3))\n",
    " \n",
    "axs[0].hist(mrg['ReadsNumber']/1000000, bins=20, alpha=0.5, color='#55b0c2')\n",
    "axs[0].set_xlabel('Number of reads (millions)')\n",
    "axs[0].set_ylabel('Number of samples')\n",
    "#axs[0].set_title('Reads number per sample')\n",
    "mn = mrg['ReadsNumber'].mean()/1000000\n",
    "axs[0].text(0.6, 0.8, 'Mean = '+str(mn)[0:4]+' mln', horizontalalignment='center', verticalalignment='center', transform=axs[0].transAxes)\n",
    "\n",
    "axs[1].hist(mrg['RN_host_removed']/1000000, bins=20, alpha=0.5, color='#d4967f')\n",
    "axs[1].set_xlabel('Files size (Gb)')\n",
    "mn2 = mrg['RN_host_removed'].mean()/1000000\n",
    "#axs[1].set_title('Files size per sample')\n",
    "axs[1].text(0.7, 0.8, 'Mean = '+str(mn2)[0:4]+' Gb', horizontalalignment='center', verticalalignment='center', transform=axs[1].transAxes)\n",
    "\n",
    "plt.tight_layout()\n",
    "plt.savefig('results/Ststs1.png', dpi=300)"
   ]
  }
 ],
 "metadata": {
  "kernelspec": {
   "display_name": "base",
   "language": "python",
   "name": "python3"
  },
  "language_info": {
   "codemirror_mode": {
    "name": "ipython",
    "version": 3
   },
   "file_extension": ".py",
   "mimetype": "text/x-python",
   "name": "python",
   "nbconvert_exporter": "python",
   "pygments_lexer": "ipython3",
   "version": "3.9.6"
  },
  "orig_nbformat": 4
 },
 "nbformat": 4,
 "nbformat_minor": 2
}
